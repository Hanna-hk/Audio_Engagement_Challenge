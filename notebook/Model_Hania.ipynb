{
 "cells": [
  {
   "cell_type": "markdown",
   "id": "f7aeb4a8",
   "metadata": {},
   "source": [
    "# Model Evaluation \n",
    "\n",
    "## Agenda\n",
    "1. Data Collection\n",
    "2. Data Cleaning, Feature Engineering and Label Encoding\n",
    "3. Model Evaluation\n",
    "4. Data Prediction\n",
    "5. Summary"
   ]
  },
  {
   "cell_type": "markdown",
   "id": "81d2c87f",
   "metadata": {},
   "source": [
    "# 1. Data Collection"
   ]
  },
  {
   "cell_type": "markdown",
   "id": "1c462caa",
   "metadata": {},
   "source": [
    "**Import Required Packages**"
   ]
  },
  {
   "cell_type": "code",
   "execution_count": 1,
   "id": "bb0049e6",
   "metadata": {},
   "outputs": [],
   "source": [
    "import pandas as pd\n",
    "import numpy as np\n",
    "import matplotlib.pyplot as plt\n",
    "import time\n",
    "from sklearn.metrics import mean_absolute_error, r2_score, mean_squared_error\n",
    "from sklearn.experimental import enable_iterative_imputer\n",
    "from sklearn.impute import SimpleImputer\n",
    "from sklearn.preprocessing import LabelEncoder\n",
    "import statistics\n",
    "from sklearn.ensemble import VotingRegressor, StackingRegressor, RandomForestRegressor\n",
    "from lightgbm import LGBMRegressor\n",
    "from xgboost import XGBRegressor\n",
    "from catboost import CatBoostRegressor\n",
    "from sklearn.model_selection import cross_val_score, train_test_split, GridSearchCV, RandomizedSearchCV\n",
    "from sklearn.linear_model import Ridge\n",
    "from scipy.stats import randint, uniform, loguniform\n",
    "import joblib\n",
    "import os\n",
    "import gc\n",
    "import matplotlib.pyplot as plt"
   ]
  },
  {
   "cell_type": "markdown",
   "id": "a22abb42",
   "metadata": {},
   "source": [
    "**Import the CSV Data as Pandas DataFrame**"
   ]
  },
  {
   "cell_type": "code",
   "execution_count": 2,
   "id": "93cf4d55",
   "metadata": {},
   "outputs": [
    {
     "name": "stdout",
     "output_type": "stream",
     "text": [
      "Files loaded in 1.1763532161712646 seconds\n"
     ]
    }
   ],
   "source": [
    "start = time.time()\n",
    "test = pd.read_csv(\"data/test.csv\")\n",
    "train = pd.read_csv(\"data/train.csv\")\n",
    "sample_submission = pd.read_csv(\"data/sample_submission.csv\")\n",
    "print(\"Files loaded in\", time.time()-start, \"seconds\")"
   ]
  },
  {
   "cell_type": "markdown",
   "id": "9e1957fe",
   "metadata": {},
   "source": [
    "# 2. Data Cleaning, Feature Engineering and Label Encoding"
   ]
  },
  {
   "cell_type": "code",
   "execution_count": 3,
   "id": "8b243d59",
   "metadata": {},
   "outputs": [],
   "source": [
    "X_train = train.drop(['id', 'Listening_Time_minutes'], axis=1)\n",
    "Y_train = train['Listening_Time_minutes']\n",
    "X_test = test.drop('id', axis=1)"
   ]
  },
  {
   "cell_type": "code",
   "execution_count": 4,
   "id": "f30e6e5f",
   "metadata": {},
   "outputs": [
    {
     "data": {
      "text/plain": [
       "np.int64(0)"
      ]
     },
     "execution_count": 4,
     "metadata": {},
     "output_type": "execute_result"
    }
   ],
   "source": [
    "X_train['Number_of_Ads']=X_train['Number_of_Ads'].fillna(X_train['Number_of_Ads'].median())\n",
    "X_train['Number_of_Ads'].isna().sum()"
   ]
  },
  {
   "cell_type": "markdown",
   "id": "4944d770",
   "metadata": {},
   "source": [
    "**Replacing nullable data in `Guest_Popularity_percentage` with 0**"
   ]
  },
  {
   "cell_type": "code",
   "execution_count": 5,
   "id": "528bee05",
   "metadata": {},
   "outputs": [
    {
     "data": {
      "text/plain": [
       "np.int64(0)"
      ]
     },
     "execution_count": 5,
     "metadata": {},
     "output_type": "execute_result"
    }
   ],
   "source": [
    "X_train['Guest_Popularity_percentage']=X_train['Guest_Popularity_percentage'].fillna(0)\n",
    "X_train['Guest_Popularity_percentage'].isna().sum()"
   ]
  },
  {
   "cell_type": "code",
   "execution_count": 6,
   "id": "f222c856",
   "metadata": {},
   "outputs": [
    {
     "data": {
      "text/plain": [
       "np.int64(0)"
      ]
     },
     "execution_count": 6,
     "metadata": {},
     "output_type": "execute_result"
    }
   ],
   "source": [
    "X_test['Guest_Popularity_percentage']=X_test['Guest_Popularity_percentage'].fillna(0)\n",
    "X_test['Guest_Popularity_percentage'].isna().sum()"
   ]
  },
  {
   "cell_type": "markdown",
   "id": "54097f26",
   "metadata": {},
   "source": [
    "**Using Simple Encoder**"
   ]
  },
  {
   "cell_type": "code",
   "execution_count": 7,
   "id": "c76c9dd4",
   "metadata": {},
   "outputs": [
    {
     "name": "stdout",
     "output_type": "stream",
     "text": [
      "Training data has been transformed\n",
      "Testing data has been transformed\n"
     ]
    }
   ],
   "source": [
    "imputer = SimpleImputer(strategy='median')\n",
    "num_without_id = ['Episode_Length_minutes', 'Host_Popularity_percentage', 'Guest_Popularity_percentage', 'Number_of_Ads']\n",
    "X_train[num_without_id] = imputer.fit_transform(train[num_without_id])\n",
    "print(f\"Training data has been transformed\")\n",
    "X_test[num_without_id] = imputer.transform(test[num_without_id])\n",
    "print(f\"Testing data has been transformed\")"
   ]
  },
  {
   "cell_type": "markdown",
   "id": "2c193b8f",
   "metadata": {},
   "source": [
    "**Handling outliers**"
   ]
  },
  {
   "cell_type": "code",
   "execution_count": 8,
   "id": "92748cea",
   "metadata": {},
   "outputs": [],
   "source": [
    "def find_anomalies(data):\n",
    "    anomalies=[]\n",
    "    data_std = statistics.stdev(data)\n",
    "    data_mean = statistics.mean(data)\n",
    "    anomaly_cut_off = data_std * 3\n",
    "    lower_limit = data_mean - anomaly_cut_off\n",
    "    upper_limit = data_mean +anomaly_cut_off\n",
    "    for outlier in data:\n",
    "        if outlier > upper_limit or outlier < lower_limit:\n",
    "            anomalies.append(outlier)\n",
    "            print(f\"The value of the outlier: {outlier}\")\n",
    "    return anomalies\n",
    "\n",
    "def list_outliers(data, columns):\n",
    "    anomalies = []\n",
    "    for col in columns:\n",
    "        outliers = find_anomalies(data[col])\n",
    "        print(f\"In the {col} column there are {len(outliers)} outliers\")\n",
    "        anomalies.append((col, outliers))\n",
    "    return anomalies"
   ]
  },
  {
   "cell_type": "code",
   "execution_count": 9,
   "id": "e624979b",
   "metadata": {},
   "outputs": [
    {
     "name": "stdout",
     "output_type": "stream",
     "text": [
      "Train outliers:\n",
      "The value of the outlier: 325.24\n",
      "In the Episode_Length_minutes column there are 1 outliers\n",
      "In the Host_Popularity_percentage column there are 0 outliers\n",
      "In the Guest_Popularity_percentage column there are 0 outliers\n",
      "The value of the outlier: 53.37\n",
      "The value of the outlier: 103.91\n",
      "The value of the outlier: 103.0\n",
      "The value of the outlier: 53.42\n",
      "The value of the outlier: 103.75\n",
      "The value of the outlier: 12.0\n",
      "The value of the outlier: 103.25\n",
      "The value of the outlier: 103.25\n",
      "The value of the outlier: 103.88\n",
      "In the Number_of_Ads column there are 9 outliers\n",
      "Test outliers:\n",
      "The value of the outlier: 78486264.0\n",
      "In the Episode_Length_minutes column there are 1 outliers\n",
      "In the Host_Popularity_percentage column there are 0 outliers\n",
      "In the Guest_Popularity_percentage column there are 0 outliers\n",
      "The value of the outlier: 89.12\n",
      "The value of the outlier: 2063.0\n",
      "In the Number_of_Ads column there are 2 outliers\n"
     ]
    }
   ],
   "source": [
    "print(\"Train outliers:\")\n",
    "train_anomalies = list_outliers(X_train, num_without_id)\n",
    "print(\"Test outliers:\")\n",
    "test_anomalies = list_outliers(X_test, num_without_id)"
   ]
  },
  {
   "cell_type": "code",
   "execution_count": 10,
   "id": "b1154b9e",
   "metadata": {},
   "outputs": [],
   "source": [
    "def replace(data, value_up, value_low, columns):\n",
    "    data_copy = data.copy()\n",
    "    for column in columns:\n",
    "        up_mask = data_copy[column] > value_up\n",
    "        if up_mask.any():\n",
    "            data_copy.loc[up_mask, column] = value_up\n",
    "            print(f\"{column}: replaced {up_mask.sum()} values with {value_up}\")\n",
    "        low_mask = data_copy[column] < value_low\n",
    "        if low_mask.any():\n",
    "            data_copy.loc[low_mask, column] = value_low\n",
    "            print(f\"{column}: replaced {low_mask.sum()} values with {value_low}\")\n",
    "    return data_copy"
   ]
  },
  {
   "cell_type": "code",
   "execution_count": 11,
   "id": "906b858e",
   "metadata": {},
   "outputs": [
    {
     "name": "stdout",
     "output_type": "stream",
     "text": [
      "Guest_Popularity_percentage: replaced 19 values with 100\n",
      "Host_Popularity_percentage: replaced 25 values with 100\n",
      "Guest_Popularity_percentage: replaced 5 values with 100\n",
      "Host_Popularity_percentage: replaced 12 values with 100\n"
     ]
    }
   ],
   "source": [
    "X_train_num = X_train[num_without_id]\n",
    "X_test_num = X_test[num_without_id]\n",
    "percentage_cols = ['Guest_Popularity_percentage', 'Host_Popularity_percentage']\n",
    "X_train[num_without_id]= replace(X_train_num, 100,0,percentage_cols)\n",
    "X_test[num_without_id] = replace(X_test_num, 100,0,percentage_cols)"
   ]
  },
  {
   "cell_type": "code",
   "execution_count": 12,
   "id": "5c413f15",
   "metadata": {},
   "outputs": [],
   "source": [
    "def replace_outliers(train_data, test_data, columns):\n",
    "    data_replaced_train = train_data.copy()\n",
    "    data_replaced_test = test_data.copy()\n",
    "    for column in columns:\n",
    "        col_data_train = train_data[column]\n",
    "        data_std = statistics.stdev(col_data_train)\n",
    "        data_mean = statistics.mean(col_data_train)\n",
    "        anomaly_cut_off = data_std * 3\n",
    "        lower_limit = round(data_mean - anomaly_cut_off, 2)\n",
    "        upper_limit = round(data_mean + anomaly_cut_off, 2)\n",
    "        data_replaced_train = replace(data_replaced_train, upper_limit, lower_limit, [column])\n",
    "        data_replaced_test = replace(data_replaced_test, upper_limit, lower_limit, [column])\n",
    "    return data_replaced_train, data_replaced_test"
   ]
  },
  {
   "cell_type": "code",
   "execution_count": 13,
   "id": "147d04e5",
   "metadata": {},
   "outputs": [
    {
     "name": "stdout",
     "output_type": "stream",
     "text": [
      "Episode_Length_minutes: replaced 1 values with 157.42\n",
      "Episode_Length_minutes: replaced 2 values with 157.42\n",
      "Number_of_Ads: replaced 9 values with 4.8\n",
      "Number_of_Ads: replaced 2 values with 4.8\n"
     ]
    }
   ],
   "source": [
    "outlier_cols = ['Episode_Length_minutes', 'Number_of_Ads']\n",
    "X_train_replaced, X_test_replaced = replace_outliers(X_train, X_test, outlier_cols)\n",
    "X_train_replaced = X_train_replaced.round({'Number_of_Ads':0})\n",
    "X_test_replaced = X_test_replaced.round({'Number_of_Ads':0})\n",
    "X_test = X_test_replaced\n",
    "X_train = X_train_replaced"
   ]
  },
  {
   "cell_type": "markdown",
   "id": "921db06b",
   "metadata": {},
   "source": [
    "**`Episode_Title` to numerical column**"
   ]
  },
  {
   "cell_type": "code",
   "execution_count": 14,
   "id": "6e4c37c9",
   "metadata": {},
   "outputs": [
    {
     "data": {
      "text/plain": [
       "0    98\n",
       "1    26\n",
       "2    16\n",
       "3    45\n",
       "4    86\n",
       "Name: Episode_Title, dtype: int64"
      ]
     },
     "execution_count": 14,
     "metadata": {},
     "output_type": "execute_result"
    }
   ],
   "source": [
    "X_train['Episode_Title'] = X_train['Episode_Title'].str.extract('(\\d+)').astype(int)\n",
    "X_train['Episode_Title'].head()"
   ]
  },
  {
   "cell_type": "code",
   "execution_count": 15,
   "id": "275124af",
   "metadata": {},
   "outputs": [
    {
     "data": {
      "text/plain": [
       "0    73\n",
       "1    23\n",
       "2    11\n",
       "3    73\n",
       "4    50\n",
       "Name: Episode_Title, dtype: int64"
      ]
     },
     "execution_count": 15,
     "metadata": {},
     "output_type": "execute_result"
    }
   ],
   "source": [
    "X_test['Episode_Title'] = X_test['Episode_Title'].str.extract('(\\d+)').astype(int)\n",
    "X_test['Episode_Title'].head()"
   ]
  },
  {
   "cell_type": "markdown",
   "id": "dce3de14",
   "metadata": {},
   "source": [
    "**Feature Engineering**"
   ]
  },
  {
   "cell_type": "code",
   "execution_count": 16,
   "id": "f17b9c9e",
   "metadata": {},
   "outputs": [],
   "source": [
    "X_train['Ads_per_Popularity'] = X_train['Number_of_Ads'] / (X_train['Host_Popularity_percentage'] + 0.1)\n",
    "X_test['Ads_per_Popularity'] = X_test['Number_of_Ads'] / (X_test['Host_Popularity_percentage'] + 0.1)\n",
    "X_train['Length_Ads_Ratio'] = X_train['Episode_Length_minutes'] / (X_train['Number_of_Ads'] + 1)\n",
    "X_test['Length_Ads_Ratio'] = X_test['Episode_Length_minutes'] / (X_test['Number_of_Ads'] + 1)\n",
    "X_train['Length_Popularity_Interaction'] = X_train['Episode_Length_minutes'] * (X_train['Host_Popularity_percentage']+X_train['Guest_Popularity_percentage'])\n",
    "X_test['Length_Popularity_Interaction'] = X_test['Episode_Length_minutes'] * (X_test['Host_Popularity_percentage']+X_test['Guest_Popularity_percentage'])"
   ]
  },
  {
   "cell_type": "markdown",
   "id": "705af3da",
   "metadata": {},
   "source": [
    "**Label Encoding**"
   ]
  },
  {
   "cell_type": "code",
   "execution_count": 17,
   "id": "a4c6a813",
   "metadata": {},
   "outputs": [],
   "source": [
    "ordinal_columns = ['Episode_Sentiment', 'Publication_Day', 'Publication_Time', 'Podcast_Name', 'Genre']\n",
    "\n",
    "label_encoders = {}\n",
    "for col in ordinal_columns:\n",
    "    le = LabelEncoder()\n",
    "    X_train[f'{col}_Encoded'] = le.fit_transform(X_train[col])\n",
    "    X_test[f'{col}_Encoded'] = le.transform(X_test[col])\n",
    "    label_encoders[col] = le\n",
    "X_train = X_train.drop(ordinal_columns, axis=1)\n",
    "X_test = X_test.drop(ordinal_columns, axis=1)"
   ]
  },
  {
   "cell_type": "markdown",
   "id": "4317f2a8",
   "metadata": {},
   "source": [
    "# 3. Model Choosing"
   ]
  },
  {
   "cell_type": "markdown",
   "id": "2edbcc8b",
   "metadata": {},
   "source": [
    "Some features have very low correlation with target, so it is important to try not-linear models, such as:\n",
    "1. Tree-Based Models\n",
    "2. Gradient Boosting\n",
    "3. Ensemble Methods"
   ]
  },
  {
   "cell_type": "markdown",
   "id": "7aefaa45",
   "metadata": {},
   "source": [
    "### 3.1 Splitting training set into validation and training sets"
   ]
  },
  {
   "cell_type": "code",
   "execution_count": 18,
   "id": "41dd576f",
   "metadata": {},
   "outputs": [],
   "source": [
    "X_tr, X_val, y_tr, y_val = train_test_split(\n",
    "    X_train, Y_train, test_size=0.2, random_state=42\n",
    ")"
   ]
  },
  {
   "cell_type": "markdown",
   "id": "c661d23c",
   "metadata": {},
   "source": [
    "### 3.2 Choosing best parameters for the models and trying models that by the analysis are best for this project "
   ]
  },
  {
   "cell_type": "code",
   "execution_count": 19,
   "id": "97f85c76",
   "metadata": {},
   "outputs": [],
   "source": [
    "# np.random.seed(42)\n",
    "# def create_and_validate(X_tr, y_tr):\n",
    "#     param_grid_lgd = {\n",
    "#         'n_estimators': randint(50,200),\n",
    "#         'learning_rate': [0.05, 0.1, 0.2],\n",
    "#         'max_depth': [7, 10, None],\n",
    "#         'subsample': [0.8, 0.9]\n",
    "#     }\n",
    "\n",
    "#     param_grid_xgb = {\n",
    "#         'n_estimators': randint(50,200),\n",
    "#         'learning_rate': [0.05, 0.1, 0.2],\n",
    "#         'max_depth': [7, 10, None],\n",
    "#         'reg_lambda': [1, 5]\n",
    "#     }\n",
    "\n",
    "#     param_grid_cat = {\n",
    "#         'iterations': randint(50,200),\n",
    "#         'learning_rate': [0.05, 0.1, 0.2],\n",
    "#         'depth': [8, 10, None],\n",
    "#         'l2_leaf_reg': [3, 5]\n",
    "#     }\n",
    "#     lgb = LGBMRegressor(random_state=42, verbose=-1, n_jobs=1)\n",
    "#     random_search_lgd = RandomizedSearchCV(\n",
    "#         estimator=lgb,\n",
    "#         param_distributions=param_grid_lgd,\n",
    "#         n_iter=8,\n",
    "#         cv=3,\n",
    "#         n_jobs=-1,\n",
    "#         verbose=1,\n",
    "#         random_state=42,\n",
    "#         return_train_score=True\n",
    "#     )\n",
    "\n",
    "#     random_search_lgd.fit(X_tr, y_tr)\n",
    "#     best_params_lgd = random_search_lgd.best_params_\n",
    "#     print(\"Best parameters for LGBMRegressor:\", best_params_lgd)\n",
    "\n",
    "#     xgb = XGBRegressor(random_state=42, n_jobs=1)\n",
    "\n",
    "#     random_search_xgb = RandomizedSearchCV(\n",
    "#         estimator=xgb,\n",
    "#         param_distributions=param_grid_xgb,\n",
    "#         n_iter=8,\n",
    "#         cv=3,\n",
    "#         n_jobs=-1,\n",
    "#         random_state=42,\n",
    "#         verbose=1,\n",
    "#         return_train_score=True\n",
    "#     )\n",
    "#     random_search_xgb.fit(X_tr, y_tr)\n",
    "#     best_params_xgb = random_search_xgb.best_params_\n",
    "#     print(\"Best parameters for XGBRegressor:\", best_params_xgb)\n",
    "\n",
    "\n",
    "#     catboost = CatBoostRegressor(\n",
    "#         random_seed=42,\n",
    "#         verbose=False,\n",
    "#         thread_count=-1\n",
    "#     )\n",
    "\n",
    "#     random_search_cat = RandomizedSearchCV(\n",
    "#         estimator=catboost,\n",
    "#         param_distributions=param_grid_cat,\n",
    "#         n_iter=8,\n",
    "#         cv=3,\n",
    "#         n_jobs=1,\n",
    "#         random_state=42,\n",
    "#         verbose=1,\n",
    "#         return_train_score=True\n",
    "#     )\n",
    "#     random_search_cat.fit(X_tr, y_tr)\n",
    "#     best_params_cat = random_search_cat.best_params_\n",
    "#     print(\"Best parameters for CatBoostRegressor:\", best_params_cat)\n",
    "\n",
    "#     param_dist = {\n",
    "#         'n_estimators': randint(50, 200),\n",
    "#         'max_depth': [10, 15, None],\n",
    "#         'min_samples_split': randint(2, 10),\n",
    "#         'max_features': ['sqrt', 'log2']\n",
    "#     }\n",
    "\n",
    "#     rf = RandomForestRegressor(random_state=42)\n",
    "#     random_search = RandomizedSearchCV(\n",
    "#         rf, param_dist, n_iter=8, cv=3,\n",
    "#         n_jobs=-1, verbose=1, random_state=42\n",
    "#     )\n",
    "#     random_search.fit(X_tr, y_tr)\n",
    "#     best_rf_params = random_search.best_params_\n",
    "#     print(f'Best parameters for RandomForest: {best_rf_params}')\n",
    "\n",
    "    \n",
    "#     voting_ensemble = VotingRegressor([\n",
    "#         ('lgb', LGBMRegressor(**best_params_lgd,\n",
    "#             random_state=42\n",
    "#         )),\n",
    "#         ('xgb', XGBRegressor(**best_params_xgb,\n",
    "#             random_state=42\n",
    "#         )),\n",
    "#         ('cat', CatBoostRegressor(**best_params_cat,\n",
    "#             random_seed=42\n",
    "#         )), \n",
    "#         ('rf', RandomForestRegressor(**best_rf_params,\n",
    "#             random_state=42\n",
    "#         ))\n",
    "#     ])\n",
    "#     stacking_ensemble = StackingRegressor([\n",
    "#         ('lgb', LGBMRegressor(**best_params_lgd,\n",
    "#             random_state=42\n",
    "#         )),\n",
    "#         ('xgb', XGBRegressor(**best_params_xgb,\n",
    "#             random_state=42\n",
    "#         )),\n",
    "#         ('cat', CatBoostRegressor(**best_params_cat,\n",
    "#             random_seed=42\n",
    "#         )), \n",
    "#         ('rf', RandomForestRegressor(**best_rf_params,\n",
    "#             random_state=42\n",
    "#         ))\n",
    "#     ], final_estimator=Ridge(alpha=1.0), cv=3)\n",
    "    \n",
    "    \n",
    "#     models = {\n",
    "#         'LightGBM': LGBMRegressor(**best_params_lgd, random_state=42),\n",
    "#         'XGBoost': XGBRegressor(**best_params_xgb, random_state=42),\n",
    "#         'CatBoost': CatBoostRegressor(**best_params_cat, random_state=42),\n",
    "#         'RandomForest': RandomForestRegressor(**best_rf_params, random_state=42),\n",
    "#         'Voting_Ensemble': voting_ensemble,\n",
    "#         'Stacking_Ensemble': stacking_ensemble,\n",
    "#     }\n",
    "#     return models, best_params_lgd, best_params_xgb, best_params_cat, best_rf_params\n",
    "\n",
    "# models, best_params_lgd, best_params_xgb, best_params_cat, best_rf_params = create_and_validate(X_tr, y_tr)"
   ]
  },
  {
   "cell_type": "code",
   "execution_count": 20,
   "id": "8e404483",
   "metadata": {},
   "outputs": [],
   "source": [
    "# def train_and_evaluate_models(models, X_tr, y_tr, X_val, y_val):\n",
    "#     results = {}\n",
    "#     rmse_values = []\n",
    "#     model_names = []\n",
    "    \n",
    "#     for name, model in models.items():\n",
    "#         print(f\"\\n--- MODEL TRAINING {name} ---\")\n",
    "        \n",
    "#         model.fit(X_tr, y_tr)\n",
    "        \n",
    "#         y_pred = model.predict(X_val)\n",
    "#         rmse = np.sqrt(mean_squared_error(y_val, y_pred))\n",
    "        \n",
    "#         results[name] = {\n",
    "#             'model': model,\n",
    "#             'rmse': rmse,\n",
    "#             'predictions': y_pred\n",
    "#         }\n",
    "        \n",
    "#         rmse_values.append(rmse)\n",
    "#         model_names.append(name)\n",
    "        \n",
    "#         print(f\"RMSE: {rmse:.4f}\")\n",
    "    \n",
    "#     plt.figure(figsize=(10, 6))\n",
    "#     bars = plt.bar(model_names, rmse_values, color=['skyblue', 'lightgreen', 'lightcoral', 'gold'])\n",
    "#     plt.title('Model Comparison (RMSE)', fontsize=14, fontweight='bold')\n",
    "#     plt.ylabel('RMSE Score', fontsize=12)\n",
    "#     plt.xticks(rotation=45)\n",
    "    \n",
    "#     for bar, value in zip(bars, rmse_values):\n",
    "#         plt.text(bar.get_x() + bar.get_width()/2, bar.get_height() + 0.001,\n",
    "#                 f'{value:.4f}', ha='center', va='bottom', fontweight='bold')\n",
    "    \n",
    "#     plt.tight_layout()\n",
    "#     plt.show()\n",
    "    \n",
    "#     return results\n",
    "\n",
    "# results = train_and_evaluate_models(models, X_tr, X_val, y_tr, y_val)"
   ]
  },
  {
   "cell_type": "markdown",
   "id": "e55755b2",
   "metadata": {},
   "source": [
    "#### Insights:\n",
    "The best RMSE has RandomForestRegressor with certain parameters, so let's try to improve its performance"
   ]
  },
  {
   "cell_type": "code",
   "execution_count": 21,
   "id": "cd7041b5",
   "metadata": {},
   "outputs": [],
   "source": [
    "# np.random.seed(42)\n",
    "# def create_and_validate_forests(X_tr, X_val, y_tr, y_val, best_rf_params):\n",
    "#     forests = [\n",
    "#         RandomForestRegressor(**best_rf_params, random_state=i, n_jobs=-1)\n",
    "#         for i in range(5)\n",
    "#     ]\n",
    "\n",
    "#     individual_preds = []\n",
    "#     for i, forest in enumerate(forests):\n",
    "#         forest.fit(X_tr, y_tr)\n",
    "#         pred = forest.predict(X_val)\n",
    "#         individual_preds.append(pred)\n",
    "#         print(f\"Forest {i+1} trained\")\n",
    "\n",
    "#     preds = np.mean(individual_preds, axis=0)\n",
    "#     rmse = np.sqrt(mean_squared_error(y_val, preds))\n",
    "\n",
    "#     plt.figure(figsize=(12, 6))\n",
    "#     for i, pred in enumerate(individual_preds):\n",
    "#         plt.scatter(y_val, pred, alpha=0.6, label=f'Forest {i+1}', s=30)\n",
    "    \n",
    "#     plt.plot([y_val.min(), y_val.max()], [y_val.min(), y_val.max()], 'k--', alpha=0.8)\n",
    "#     plt.xlabel('True Values')\n",
    "#     plt.ylabel('Predicted Values')\n",
    "#     plt.title(f'Individual Forest Predictions vs True Values\\nEnsemble RMSE: {rmse:.4f}')\n",
    "#     plt.legend()\n",
    "#     plt.grid(True, alpha=0.3)\n",
    "#     plt.show()\n",
    "\n",
    "#     print(\"RMSE:\", rmse)\n",
    "#     return forests, preds, individual_preds\n",
    "\n",
    "# forests, preds = create_and_validate_forests(X_tr, y_tr)"
   ]
  },
  {
   "cell_type": "markdown",
   "id": "57dd330b",
   "metadata": {},
   "source": [
    "#### Insights:\n",
    "This model performs better than others, but the main issues are optimization and high memory usage. Increasing the number of forests will likely cause a memory error."
   ]
  },
  {
   "cell_type": "markdown",
   "id": "59b8bcce",
   "metadata": {},
   "source": [
    "#### We can try BaggingRegressor as it creates many \"weaker\" models on different data samples and averages their predictions to get a more robust final prediction."
   ]
  },
  {
   "cell_type": "code",
   "execution_count": 22,
   "id": "97fa0bfc",
   "metadata": {},
   "outputs": [],
   "source": [
    "# def create_and_validate_forests_bagging(X_tr, X_val, y_tr, y_val): \n",
    "#     bagging = BaggingRegressor(\n",
    "#         RandomForestRegressor(max_depth=None, max_features='log2', min_samples_split=4),\n",
    "#         n_estimators=10,\n",
    "#         max_samples=0.8,\n",
    "#         random_state=42\n",
    "#     )\n",
    "\n",
    "#     bagging.fit(X_tr, y_tr)\n",
    "#     preds = bagging.predict(X_val) \n",
    "#     rmse = np.sqrt(mean_squared_error(y_val, preds))\n",
    "\n",
    "#     plt.figure(figsize=(10, 6))\n",
    "#     plt.scatter(y_val, preds, alpha=0.6, s=50, color='blue')\n",
    "#     plt.plot([y_val.min(), y_val.max()], [y_val.min(), y_val.max()], 'r--', linewidth=2)\n",
    "#     plt.xlabel('True Values')\n",
    "#     plt.ylabel('Predicted Values')\n",
    "#     plt.title(f'BaggingRegressor Predictions\\nRMSE: {rmse:.4f}')\n",
    "#     plt.grid(True, alpha=0.3)\n",
    "#     plt.show()\n",
    "\n",
    "#     print(\"RMSE:\", rmse)\n",
    "#     return bagging, preds\n",
    "# bagging, preds = create_and_validate_forests_bagging(X_tr, X_val, y_tr, y_val)"
   ]
  },
  {
   "cell_type": "markdown",
   "id": "d5a767f5",
   "metadata": {},
   "source": [
    "### Insights:\n",
    "It is not so good, as the previous model, so we can optimize memory usage by saving each model to disk and loading them only when needed for predictions."
   ]
  },
  {
   "cell_type": "code",
   "execution_count": 23,
   "id": "6431709c",
   "metadata": {},
   "outputs": [],
   "source": [
    "models_dir = \"saved_models\"\n",
    "os.makedirs(models_dir, exist_ok=True)"
   ]
  },
  {
   "cell_type": "code",
   "execution_count": null,
   "id": "18bc36a8",
   "metadata": {},
   "outputs": [],
   "source": [
    "models_dir = \"saved_models\"\n",
    "os.makedirs(MODELS_DIR, exist_ok=True)\n",
    "\n",
    "def predict_from_disk(models_dir, X_val, y_val, best_params):\n",
    "    predictions = []\n",
    "    model_files = []\n",
    "    \n",
    "    for file in os.listdir(models_dir):\n",
    "        if file.startswith('') and file.endswith('.joblib'):\n",
    "            model_files.append(file)\n",
    "    \n",
    "    model_files.sort(key=lambda x: int(x.split('_')[1].split('.')[0]))\n",
    "    \n",
    "    for i, file in enumerate(model_files):\n",
    "        forest = joblib.load(os.path.join(models_dir, file))\n",
    "        \n",
    "        pred = forest.predict(X_val)\n",
    "        predictions.append(pred)\n",
    "        \n",
    "        print(f\"Model {i+1} predicted\")\n",
    "        \n",
    "        del forest\n",
    "        gc.collect()\n",
    "    \n",
    "    final_prediction = np.mean(predictions, axis=0)\n",
    "    \n",
    "    rmse = np.sqrt(mean_squared_error(y_val, final_prediction))\n",
    "    \n",
    "    print(f\"Final RMSE: {rmse:.4f}\")\n",
    "    return final_prediction, rmse\n",
    "\n",
    "def create_and_validate_forests_disk(X_tr, X_val, y_tr, y_val, models_dir):\n",
    "    os.makedirs(models_dir, exist_ok=True)\n",
    "    for i in range(30):\n",
    "        forest = (**best_params, random_state=i, n_jobs=3)\n",
    "\n",
    "        forest.fit(X_tr, y_tr)\n",
    "        \n",
    "        filename = f'{models_dir}/{i}.joblib'\n",
    "        joblib.dump(, filename)\n",
    "        \n",
    "        joblib.load(filename)\n",
    "        del forest\n",
    "        gc.collect()\n",
    "        print(f\" {i+1} trained and saved\")\n",
    "    final_pred, rmse = predict_from_disk(models_dir, X_val, y_val)\n",
    "    return models_dir, rmse\n",
    "create_and_validate_forests_disk(X_tr, X_val, y_tr, y_val, models_dir, best_rf_params)"
   ]
  },
  {
   "cell_type": "markdown",
   "id": "a0a36e14",
   "metadata": {},
   "source": [
    "# 4. Data Prediction"
   ]
  },
  {
   "cell_type": "code",
   "execution_count": 25,
   "id": "f40dcda8",
   "metadata": {},
   "outputs": [
    {
     "name": "stdout",
     "output_type": "stream",
     "text": [
      "Model 1 predicted - Ensemble size: 1\n",
      "Model 2 predicted - Ensemble size: 2\n",
      "Model 3 predicted - Ensemble size: 3\n",
      "Model 4 predicted - Ensemble size: 4\n",
      "Model 5 predicted - Ensemble size: 5\n",
      "Model 6 predicted - Ensemble size: 6\n",
      "Model 7 predicted - Ensemble size: 7\n",
      "Model 8 predicted - Ensemble size: 8\n",
      "Model 9 predicted - Ensemble size: 9\n",
      "Model 10 predicted - Ensemble size: 10\n",
      "Model 11 predicted - Ensemble size: 11\n",
      "Model 12 predicted - Ensemble size: 12\n",
      "Model 13 predicted - Ensemble size: 13\n",
      "Model 14 predicted - Ensemble size: 14\n",
      "Model 15 predicted - Ensemble size: 15\n",
      "Model 16 predicted - Ensemble size: 16\n",
      "Model 17 predicted - Ensemble size: 17\n",
      "Model 18 predicted - Ensemble size: 18\n",
      "Model 19 predicted - Ensemble size: 19\n",
      "Model 20 predicted - Ensemble size: 20\n",
      "Model 21 predicted - Ensemble size: 21\n",
      "Model 22 predicted - Ensemble size: 22\n",
      "Model 23 predicted - Ensemble size: 23\n",
      "Model 24 predicted - Ensemble size: 24\n",
      "Model 25 predicted - Ensemble size: 25\n",
      "Model 26 predicted - Ensemble size: 26\n",
      "Model 27 predicted - Ensemble size: 27\n",
      "Model 28 predicted - Ensemble size: 28\n",
      "Model 29 predicted - Ensemble size: 29\n",
      "Model 30 predicted - Ensemble size: 30\n"
     ]
    },
    {
     "data": {
      "image/png": "[encoded data removed]",
      "text/plain": [
       "<Figure size 1500x500 with 2 Axes>"
      ]
     },
     "metadata": {},
     "output_type": "display_data"
    }
   ],
   "source": [
    "def predict_from_disk_test(models_dir, X_test, X_train, Y_train):\n",
    "    predictions = []\n",
    "    model_files = []\n",
    "    prediction_means = []\n",
    "    prediction_stds = []\n",
    "    \n",
    "    for file in os.listdir(models_dir):\n",
    "        if file.startswith('forest_') and file.endswith('.joblib'):\n",
    "            model_files.append(file)\n",
    "    \n",
    "    model_files.sort(key=lambda x: int(x.split('_')[1].split('.')[0]))\n",
    "    \n",
    "    for i, file in enumerate(model_files):\n",
    "        forest = joblib.load(os.path.join(models_dir, file))\n",
    "        forest.fit(X_train, Y_train)\n",
    "        pred = forest.predict(X_test)\n",
    "        predictions.append(pred)\n",
    "        \n",
    "        current_ensemble = np.mean(predictions, axis=0)\n",
    "        current_std = np.std(predictions, axis=0)\n",
    "        \n",
    "        prediction_means.append(current_ensemble)\n",
    "        prediction_stds.append(current_std)\n",
    "        \n",
    "        print(f\"Model {i+1} predicted - Ensemble size: {len(predictions)}\")\n",
    "        \n",
    "        del forest\n",
    "        gc.collect()\n",
    "    \n",
    "    final_prediction = np.mean(predictions, axis=0)\n",
    "    \n",
    "    plt.figure(figsize=(15, 5))\n",
    "    \n",
    "    # Average prediction\n",
    "    plt.subplot(1, 2, 1)\n",
    "    sample_idx = 0\n",
    "    ensemble_progress = [pred_mean[sample_idx] for pred_mean in prediction_means]\n",
    "    plt.plot(range(1, len(ensemble_progress) + 1), ensemble_progress, 'o-', linewidth=2)\n",
    "    plt.axhline(y=final_prediction[sample_idx], color='red', linestyle='--', \n",
    "                label=f'Final: {final_prediction[sample_idx]:.4f}')\n",
    "    plt.xlabel('Number of Models in Ensemble')\n",
    "    plt.ylabel(f'Prediction for Sample {sample_idx}')\n",
    "    plt.title('Prediction Convergence for Single Sample')\n",
    "    plt.legend()\n",
    "    plt.grid(True, alpha=0.3)\n",
    "    \n",
    "    # Standard devation\n",
    "    plt.subplot(1, 2, 2)\n",
    "    mean_stds = [np.mean(pred_std) for pred_std in prediction_stds]\n",
    "    plt.plot(range(1, len(mean_stds) + 1), mean_stds, 's-', color='orange', linewidth=2)\n",
    "    plt.xlabel('Number of Models in Ensemble')\n",
    "    plt.ylabel('Average Prediction STD')\n",
    "    plt.title('Ensemble Uncertainty Reduction')\n",
    "    plt.grid(True, alpha=0.3)\n",
    "    \n",
    "    plt.tight_layout()\n",
    "    plt.show()\n",
    "        \n",
    "    return final_prediction\n",
    "prediction = predict_from_disk_test(models_dir, X_test, X_train, Y_train)"
   ]
  },
  {
   "cell_type": "markdown",
   "id": "faef62cb",
   "metadata": {},
   "source": [
    "### Saving predictions"
   ]
  },
  {
   "cell_type": "code",
   "execution_count": 27,
   "id": "18f84a95",
   "metadata": {},
   "outputs": [
    {
     "name": "stdout",
     "output_type": "stream",
     "text": [
      "Predictions were saved in predictions.csv\n"
     ]
    }
   ],
   "source": [
    "\n",
    "results = pd.DataFrame({\n",
    "        'id': range(750000, 750000 + len(prediction)),\n",
    "        'Listening_Time_minutes': prediction\n",
    "})\n",
    "\n",
    "results.to_csv('data/sample_submission.csv', index=False, float_format='%.3f')\n",
    "print(\"Predictions were saved in predictions.csv\")"
   ]
  },
  {
   "cell_type": "markdown",
   "id": "36915b86",
   "metadata": {},
   "source": [
    "# 5. Summary\n",
    "\n",
    "We have experimented with several advanced machine learning models including LGBMRegressor, XGBRegressor, CatBoostRegressor, and RandomForestRegressor, with hyperparameter optimization performed using RandomizedSearchCV to identify the optimal configuration for each algorithm. Additionally, we implemented Voting and Stacking ensembles to leverage the strengths of multiple models.\n",
    "\n",
    "Surprisingly, the best performance was achieved by RandomForestRegressor with specific tuned parameters, despite competing against more complex gradient boosting alternatives.\n",
    "\n",
    "The primary challenge we faced was model optimization and performance enhancement, as we frequently encountered memory limitations during training. This issue was particularly pronounced with RandomForestRegressor due to its inherent nature as a computationally intensive ensemble method that builds multiple decision trees in parallel.\n",
    "\n",
    "To address these memory constraints and ensure scalable deployment, we implemented a disk-based model persistence strategy. This approach involves:\n",
    "\n",
    "- Saving trained models to disk storage\n",
    "\n",
    "- Loading models on-demand for prediction tasks\n",
    "\n",
    "- Reducing in-memory footprint during inference\n",
    "\n",
    "This solution not only resolves the memory issues but also enables model portability and facilitates deployment in resource-constrained environments while maintaining prediction accuracy."
   ]
  }
 ],
 "metadata": {
  "kernelspec": {
   "display_name": "base",
   "language": "python",
   "name": "python3"
  },
  "language_info": {
   "codemirror_mode": {
    "name": "ipython",
    "version": 3
   },
   "file_extension": ".py",
   "mimetype": "text/x-python",
   "name": "python",
   "nbconvert_exporter": "python",
   "pygments_lexer": "ipython3",
   "version": "3.13.5"
  }
 },
 "nbformat": 4,
 "nbformat_minor": 5
}
