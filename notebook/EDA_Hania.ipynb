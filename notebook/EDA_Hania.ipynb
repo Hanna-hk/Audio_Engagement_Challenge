{
 "cells": [
  {
   "cell_type": "markdown",
   "id": "53e07ed4",
   "metadata": {},
   "source": [
    "**Audio Engagement Project EDA**\n",
    "--"
   ]
  },
  {
   "cell_type": "markdown",
   "id": "1e960c61",
   "metadata": {},
   "source": [
    "**Structure**\n",
    "--\n",
    "1. Overview\n",
    "2. Data Collection\n",
    "3. Descriptive Statistics\n",
    "4. Data Visualization and Correlation Analysis\n",
    "5. General Observations and Summary"
   ]
  },
  {
   "cell_type": "markdown",
   "id": "b0208318",
   "metadata": {},
   "source": [
    "**1. Overview**\n",
    "--"
   ]
  },
  {
   "cell_type": "markdown",
   "id": "c4ce7786",
   "metadata": {},
   "source": [
    "The goal is to predict how long a user will listen to an audio episode, based on a range of feature data describing both the listener and the audio content.\n",
    "\n",
    "The dataset was synthetically generated based on real-world user audio consumption patterns. Feature distributions are realistic but not identical to any publicly available dataset.\n",
    "\n",
    "**train.csv** - the training dataset; `Listening_Time_minutes` is the target variable\n",
    "\n",
    "**test.csv** - the test dataset; your objective is to predict the `Listening_Time_minutes` for each row\n",
    "\n",
    "**sample_submission.csv** - a sample submission file in the correct format."
   ]
  },
  {
   "cell_type": "markdown",
   "id": "6e8e0799",
   "metadata": {},
   "source": [
    "**2. Data Collection**\n",
    "--"
   ]
  },
  {
   "cell_type": "markdown",
   "id": "70fc3c7b",
   "metadata": {},
   "source": [
    "**Import Data and Required Packages**"
   ]
  },
  {
   "cell_type": "code",
   "execution_count": 45,
   "id": "544bb27d",
   "metadata": {},
   "outputs": [],
   "source": [
    "import pandas as pd\n",
    "import numpy as np\n",
    "import matplotlib.pyplot as plt\n",
    "import seaborn as sns\n",
    "import kaggle\n",
    "import os\n",
    "import zipfile\n",
    "import time"
   ]
  },
  {
   "cell_type": "markdown",
   "id": "44fdd0a6",
   "metadata": {},
   "source": [
    "**Import the DataSet**"
   ]
  },
  {
   "cell_type": "code",
   "execution_count": 46,
   "id": "df610eb7",
   "metadata": {},
   "outputs": [],
   "source": [
    "kaggle.api.authenticate()\n",
    "kaggle.api.competition_download_files('audio-engagement-challenge', path='data')"
   ]
  },
  {
   "cell_type": "code",
   "execution_count": 47,
   "id": "7ecb7658",
   "metadata": {},
   "outputs": [],
   "source": [
    "path_to_zip_file = \"data/audio-engagement-challenge.zip\"\n",
    "dir_to_extract=\"data/\"\n",
    "with zipfile.ZipFile(path_to_zip_file, 'r') as zip_ref:\n",
    "    zip_ref.extractall(dir_to_extract)"
   ]
  },
  {
   "cell_type": "markdown",
   "id": "aa1e1318",
   "metadata": {},
   "source": [
    "**File information**"
   ]
  },
  {
   "cell_type": "code",
   "execution_count": 48,
   "id": "99126992",
   "metadata": {},
   "outputs": [
    {
     "name": "stdout",
     "output_type": "stream",
     "text": [
      "[{\"ref\": \"\", \"name\": \"sample_submission.csv\", \"description\": \"\", \"totalBytes\": 3500026, \"url\": \"\", \"creationDate\": \"2025-10-11T12:36:50.840Z\"}, {\"ref\": \"\", \"name\": \"test.csv\", \"description\": \"\", \"totalBytes\": 21277250, \"url\": \"\", \"creationDate\": \"2025-10-11T12:36:50.840Z\"}, {\"ref\": \"\", \"name\": \"train.csv\", \"description\": \"\", \"totalBytes\": 70036578, \"url\": \"\", \"creationDate\": \"2025-10-11T12:36:50.840Z\"}]\n"
     ]
    }
   ],
   "source": [
    "print(kaggle.api.competition_list_files('audio-engagement-challenge').files)"
   ]
  },
  {
   "cell_type": "markdown",
   "id": "d0515ee0",
   "metadata": {},
   "source": [
    "**Import the CSV Data as Pandas DataFrame**"
   ]
  },
  {
   "cell_type": "code",
   "execution_count": 49,
   "id": "552e9f3d",
   "metadata": {},
   "outputs": [
    {
     "name": "stdout",
     "output_type": "stream",
     "text": [
      "Files loaded in 1.7737600803375244 seconds\n"
     ]
    }
   ],
   "source": [
    "start = time.time()\n",
    "test = pd.read_csv(\"data/test.csv\")\n",
    "train = pd.read_csv(\"data/train.csv\")\n",
    "sample_submission = pd.read_csv(\"data/sample_submission.csv\")\n",
    "print(\"Files loaded in\", time.time()-start, \"seconds\")"
   ]
  },
  {
   "cell_type": "markdown",
   "id": "928a10a0",
   "metadata": {},
   "source": [
    "**3. Descriptive Statistics**\n",
    "--"
   ]
  },
  {
   "cell_type": "markdown",
   "id": "32fd5f00",
   "metadata": {},
   "source": [
    "**Train dataset**\n",
    "--"
   ]
  },
  {
   "cell_type": "code",
   "execution_count": 50,
   "id": "4bf85310",
   "metadata": {},
   "outputs": [
    {
     "data": {
      "text/plain": [
       "(750000, 12)"
      ]
     },
     "execution_count": 50,
     "metadata": {},
     "output_type": "execute_result"
    }
   ],
   "source": [
    "train.shape"
   ]
  },
  {
   "cell_type": "code",
   "execution_count": 51,
   "id": "226e256b",
   "metadata": {},
   "outputs": [
    {
     "data": {
      "text/plain": [
       "RangeIndex(start=0, stop=750000, step=1)"
      ]
     },
     "execution_count": 51,
     "metadata": {},
     "output_type": "execute_result"
    }
   ],
   "source": [
    "train.index"
   ]
  },
  {
   "cell_type": "code",
   "execution_count": 52,
   "id": "ac096d93",
   "metadata": {},
   "outputs": [
    {
     "data": {
      "text/plain": [
       "Index(['id', 'Podcast_Name', 'Episode_Title', 'Episode_Length_minutes',\n",
       "       'Genre', 'Host_Popularity_percentage', 'Publication_Day',\n",
       "       'Publication_Time', 'Guest_Popularity_percentage', 'Number_of_Ads',\n",
       "       'Episode_Sentiment', 'Listening_Time_minutes'],\n",
       "      dtype='object')"
      ]
     },
     "execution_count": 52,
     "metadata": {},
     "output_type": "execute_result"
    }
   ],
   "source": [
    "train.columns"
   ]
  },
  {
   "cell_type": "code",
   "execution_count": 53,
   "id": "9eacc6ef",
   "metadata": {},
   "outputs": [
    {
     "name": "stdout",
     "output_type": "stream",
     "text": [
      "<class 'pandas.core.frame.DataFrame'>\n",
      "RangeIndex: 750000 entries, 0 to 749999\n",
      "Data columns (total 12 columns):\n",
      " #   Column                       Non-Null Count   Dtype  \n",
      "---  ------                       --------------   -----  \n",
      " 0   id                           750000 non-null  int64  \n",
      " 1   Podcast_Name                 750000 non-null  object \n",
      " 2   Episode_Title                750000 non-null  object \n",
      " 3   Episode_Length_minutes       662907 non-null  float64\n",
      " 4   Genre                        750000 non-null  object \n",
      " 5   Host_Popularity_percentage   750000 non-null  float64\n",
      " 6   Publication_Day              750000 non-null  object \n",
      " 7   Publication_Time             750000 non-null  object \n",
      " 8   Guest_Popularity_percentage  603970 non-null  float64\n",
      " 9   Number_of_Ads                749999 non-null  float64\n",
      " 10  Episode_Sentiment            750000 non-null  object \n",
      " 11  Listening_Time_minutes       750000 non-null  float64\n",
      "dtypes: float64(5), int64(1), object(6)\n",
      "memory usage: 68.7+ MB\n"
     ]
    }
   ],
   "source": [
    "train.info()"
   ]
  },
  {
   "cell_type": "markdown",
   "id": "35b2e0fc",
   "metadata": {},
   "source": [
    "**Show top 5 records**"
   ]
  },
  {
   "cell_type": "code",
   "execution_count": 54,
   "id": "fc3e3aa0",
   "metadata": {},
   "outputs": [
    {
     "data": {
      "text/html": [
       "<div>\n",
       "<style scoped>\n",
       "    .dataframe tbody tr th:only-of-type {\n",
       "        vertical-align: middle;\n",
       "    }\n",
       "\n",
       "    .dataframe tbody tr th {\n",
       "        vertical-align: top;\n",
       "    }\n",
       "\n",
       "    .dataframe thead th {\n",
       "        text-align: right;\n",
       "    }\n",
       "</style>\n",
       "<table border=\"1\" class=\"dataframe\">\n",
       "  <thead>\n",
       "    <tr style=\"text-align: right;\">\n",
       "      <th></th>\n",
       "      <th>id</th>\n",
       "      <th>Podcast_Name</th>\n",
       "      <th>Episode_Title</th>\n",
       "      <th>Episode_Length_minutes</th>\n",
       "      <th>Genre</th>\n",
       "      <th>Host_Popularity_percentage</th>\n",
       "      <th>Publication_Day</th>\n",
       "      <th>Publication_Time</th>\n",
       "      <th>Guest_Popularity_percentage</th>\n",
       "      <th>Number_of_Ads</th>\n",
       "      <th>Episode_Sentiment</th>\n",
       "      <th>Listening_Time_minutes</th>\n",
       "    </tr>\n",
       "  </thead>\n",
       "  <tbody>\n",
       "    <tr>\n",
       "      <th>0</th>\n",
       "      <td>0</td>\n",
       "      <td>Mystery Matters</td>\n",
       "      <td>Episode 98</td>\n",
       "      <td>NaN</td>\n",
       "      <td>True Crime</td>\n",
       "      <td>74.81</td>\n",
       "      <td>Thursday</td>\n",
       "      <td>Night</td>\n",
       "      <td>NaN</td>\n",
       "      <td>0.0</td>\n",
       "      <td>Positive</td>\n",
       "      <td>31.41998</td>\n",
       "    </tr>\n",
       "    <tr>\n",
       "      <th>1</th>\n",
       "      <td>1</td>\n",
       "      <td>Joke Junction</td>\n",
       "      <td>Episode 26</td>\n",
       "      <td>119.80</td>\n",
       "      <td>Comedy</td>\n",
       "      <td>66.95</td>\n",
       "      <td>Saturday</td>\n",
       "      <td>Afternoon</td>\n",
       "      <td>75.95</td>\n",
       "      <td>2.0</td>\n",
       "      <td>Negative</td>\n",
       "      <td>88.01241</td>\n",
       "    </tr>\n",
       "    <tr>\n",
       "      <th>2</th>\n",
       "      <td>2</td>\n",
       "      <td>Study Sessions</td>\n",
       "      <td>Episode 16</td>\n",
       "      <td>73.90</td>\n",
       "      <td>Education</td>\n",
       "      <td>69.97</td>\n",
       "      <td>Tuesday</td>\n",
       "      <td>Evening</td>\n",
       "      <td>8.97</td>\n",
       "      <td>0.0</td>\n",
       "      <td>Negative</td>\n",
       "      <td>44.92531</td>\n",
       "    </tr>\n",
       "    <tr>\n",
       "      <th>3</th>\n",
       "      <td>3</td>\n",
       "      <td>Digital Digest</td>\n",
       "      <td>Episode 45</td>\n",
       "      <td>67.17</td>\n",
       "      <td>Technology</td>\n",
       "      <td>57.22</td>\n",
       "      <td>Monday</td>\n",
       "      <td>Morning</td>\n",
       "      <td>78.70</td>\n",
       "      <td>2.0</td>\n",
       "      <td>Positive</td>\n",
       "      <td>46.27824</td>\n",
       "    </tr>\n",
       "    <tr>\n",
       "      <th>4</th>\n",
       "      <td>4</td>\n",
       "      <td>Mind &amp; Body</td>\n",
       "      <td>Episode 86</td>\n",
       "      <td>110.51</td>\n",
       "      <td>Health</td>\n",
       "      <td>80.07</td>\n",
       "      <td>Monday</td>\n",
       "      <td>Afternoon</td>\n",
       "      <td>58.68</td>\n",
       "      <td>3.0</td>\n",
       "      <td>Neutral</td>\n",
       "      <td>75.61031</td>\n",
       "    </tr>\n",
       "  </tbody>\n",
       "</table>\n",
       "</div>"
      ],
      "text/plain": [
       "   id     Podcast_Name Episode_Title  Episode_Length_minutes       Genre  \\\n",
       "0   0  Mystery Matters    Episode 98                     NaN  True Crime   \n",
       "1   1    Joke Junction    Episode 26                  119.80      Comedy   \n",
       "2   2   Study Sessions    Episode 16                   73.90   Education   \n",
       "3   3   Digital Digest    Episode 45                   67.17  Technology   \n",
       "4   4      Mind & Body    Episode 86                  110.51      Health   \n",
       "\n",
       "   Host_Popularity_percentage Publication_Day Publication_Time  \\\n",
       "0                       74.81        Thursday            Night   \n",
       "1                       66.95        Saturday        Afternoon   \n",
       "2                       69.97         Tuesday          Evening   \n",
       "3                       57.22          Monday          Morning   \n",
       "4                       80.07          Monday        Afternoon   \n",
       "\n",
       "   Guest_Popularity_percentage  Number_of_Ads Episode_Sentiment  \\\n",
       "0                          NaN            0.0          Positive   \n",
       "1                        75.95            2.0          Negative   \n",
       "2                         8.97            0.0          Negative   \n",
       "3                        78.70            2.0          Positive   \n",
       "4                        58.68            3.0           Neutral   \n",
       "\n",
       "   Listening_Time_minutes  \n",
       "0                31.41998  \n",
       "1                88.01241  \n",
       "2                44.92531  \n",
       "3                46.27824  \n",
       "4                75.61031  "
      ]
     },
     "execution_count": 54,
     "metadata": {},
     "output_type": "execute_result"
    }
   ],
   "source": [
    "train.head()"
   ]
  },
  {
   "cell_type": "markdown",
   "id": "e71c64c8",
   "metadata": {},
   "source": [
    "**Show 5 last records**"
   ]
  },
  {
   "cell_type": "code",
   "execution_count": 55,
   "id": "624f0fa6",
   "metadata": {},
   "outputs": [
    {
     "data": {
      "text/html": [
       "<div>\n",
       "<style scoped>\n",
       "    .dataframe tbody tr th:only-of-type {\n",
       "        vertical-align: middle;\n",
       "    }\n",
       "\n",
       "    .dataframe tbody tr th {\n",
       "        vertical-align: top;\n",
       "    }\n",
       "\n",
       "    .dataframe thead th {\n",
       "        text-align: right;\n",
       "    }\n",
       "</style>\n",
       "<table border=\"1\" class=\"dataframe\">\n",
       "  <thead>\n",
       "    <tr style=\"text-align: right;\">\n",
       "      <th></th>\n",
       "      <th>id</th>\n",
       "      <th>Podcast_Name</th>\n",
       "      <th>Episode_Title</th>\n",
       "      <th>Episode_Length_minutes</th>\n",
       "      <th>Genre</th>\n",
       "      <th>Host_Popularity_percentage</th>\n",
       "      <th>Publication_Day</th>\n",
       "      <th>Publication_Time</th>\n",
       "      <th>Guest_Popularity_percentage</th>\n",
       "      <th>Number_of_Ads</th>\n",
       "      <th>Episode_Sentiment</th>\n",
       "      <th>Listening_Time_minutes</th>\n",
       "    </tr>\n",
       "  </thead>\n",
       "  <tbody>\n",
       "    <tr>\n",
       "      <th>749995</th>\n",
       "      <td>749995</td>\n",
       "      <td>Learning Lab</td>\n",
       "      <td>Episode 25</td>\n",
       "      <td>75.66</td>\n",
       "      <td>Education</td>\n",
       "      <td>69.36</td>\n",
       "      <td>Saturday</td>\n",
       "      <td>Morning</td>\n",
       "      <td>NaN</td>\n",
       "      <td>0.0</td>\n",
       "      <td>Negative</td>\n",
       "      <td>56.87058</td>\n",
       "    </tr>\n",
       "    <tr>\n",
       "      <th>749996</th>\n",
       "      <td>749996</td>\n",
       "      <td>Business Briefs</td>\n",
       "      <td>Episode 21</td>\n",
       "      <td>75.75</td>\n",
       "      <td>Business</td>\n",
       "      <td>35.21</td>\n",
       "      <td>Saturday</td>\n",
       "      <td>Night</td>\n",
       "      <td>NaN</td>\n",
       "      <td>2.0</td>\n",
       "      <td>Neutral</td>\n",
       "      <td>45.46242</td>\n",
       "    </tr>\n",
       "    <tr>\n",
       "      <th>749997</th>\n",
       "      <td>749997</td>\n",
       "      <td>Lifestyle Lounge</td>\n",
       "      <td>Episode 51</td>\n",
       "      <td>30.98</td>\n",
       "      <td>Lifestyle</td>\n",
       "      <td>78.58</td>\n",
       "      <td>Thursday</td>\n",
       "      <td>Morning</td>\n",
       "      <td>84.89</td>\n",
       "      <td>0.0</td>\n",
       "      <td>Negative</td>\n",
       "      <td>15.26000</td>\n",
       "    </tr>\n",
       "    <tr>\n",
       "      <th>749998</th>\n",
       "      <td>749998</td>\n",
       "      <td>Style Guide</td>\n",
       "      <td>Episode 47</td>\n",
       "      <td>108.98</td>\n",
       "      <td>Lifestyle</td>\n",
       "      <td>45.39</td>\n",
       "      <td>Thursday</td>\n",
       "      <td>Morning</td>\n",
       "      <td>93.27</td>\n",
       "      <td>0.0</td>\n",
       "      <td>Negative</td>\n",
       "      <td>100.72939</td>\n",
       "    </tr>\n",
       "    <tr>\n",
       "      <th>749999</th>\n",
       "      <td>749999</td>\n",
       "      <td>Sports Central</td>\n",
       "      <td>Episode 99</td>\n",
       "      <td>24.10</td>\n",
       "      <td>Sports</td>\n",
       "      <td>22.45</td>\n",
       "      <td>Saturday</td>\n",
       "      <td>Night</td>\n",
       "      <td>36.72</td>\n",
       "      <td>0.0</td>\n",
       "      <td>Neutral</td>\n",
       "      <td>11.94439</td>\n",
       "    </tr>\n",
       "  </tbody>\n",
       "</table>\n",
       "</div>"
      ],
      "text/plain": [
       "            id      Podcast_Name Episode_Title  Episode_Length_minutes  \\\n",
       "749995  749995      Learning Lab    Episode 25                   75.66   \n",
       "749996  749996   Business Briefs    Episode 21                   75.75   \n",
       "749997  749997  Lifestyle Lounge    Episode 51                   30.98   \n",
       "749998  749998       Style Guide    Episode 47                  108.98   \n",
       "749999  749999    Sports Central    Episode 99                   24.10   \n",
       "\n",
       "            Genre  Host_Popularity_percentage Publication_Day  \\\n",
       "749995  Education                       69.36        Saturday   \n",
       "749996   Business                       35.21        Saturday   \n",
       "749997  Lifestyle                       78.58        Thursday   \n",
       "749998  Lifestyle                       45.39        Thursday   \n",
       "749999     Sports                       22.45        Saturday   \n",
       "\n",
       "       Publication_Time  Guest_Popularity_percentage  Number_of_Ads  \\\n",
       "749995          Morning                          NaN            0.0   \n",
       "749996            Night                          NaN            2.0   \n",
       "749997          Morning                        84.89            0.0   \n",
       "749998          Morning                        93.27            0.0   \n",
       "749999            Night                        36.72            0.0   \n",
       "\n",
       "       Episode_Sentiment  Listening_Time_minutes  \n",
       "749995          Negative                56.87058  \n",
       "749996           Neutral                45.46242  \n",
       "749997          Negative                15.26000  \n",
       "749998          Negative               100.72939  \n",
       "749999           Neutral                11.94439  "
      ]
     },
     "execution_count": 55,
     "metadata": {},
     "output_type": "execute_result"
    }
   ],
   "source": [
    "train.tail(5)"
   ]
  },
  {
   "cell_type": "markdown",
   "id": "bf2972b9",
   "metadata": {},
   "source": [
    "**Check missing values**"
   ]
  },
  {
   "cell_type": "code",
   "execution_count": 56,
   "id": "6398fc0f",
   "metadata": {},
   "outputs": [
    {
     "data": {
      "text/plain": [
       "id                                  0\n",
       "Podcast_Name                        0\n",
       "Episode_Title                       0\n",
       "Episode_Length_minutes          87093\n",
       "Genre                               0\n",
       "Host_Popularity_percentage          0\n",
       "Publication_Day                     0\n",
       "Publication_Time                    0\n",
       "Guest_Popularity_percentage    146030\n",
       "Number_of_Ads                       1\n",
       "Episode_Sentiment                   0\n",
       "Listening_Time_minutes              0\n",
       "dtype: int64"
      ]
     },
     "execution_count": 56,
     "metadata": {},
     "output_type": "execute_result"
    }
   ],
   "source": [
    "train.isna().sum()"
   ]
  }
 ],
 "metadata": {
  "kernelspec": {
   "display_name": "base",
   "language": "python",
   "name": "python3"
  },
  "language_info": {
   "codemirror_mode": {
    "name": "ipython",
    "version": 3
   },
   "file_extension": ".py",
   "mimetype": "text/x-python",
   "name": "python",
   "nbconvert_exporter": "python",
   "pygments_lexer": "ipython3",
   "version": "3.13.5"
  }
 },
 "nbformat": 4,
 "nbformat_minor": 5
}
