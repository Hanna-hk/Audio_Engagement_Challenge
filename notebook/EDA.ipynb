{
 "cells": [
  {
   "cell_type": "markdown",
   "id": "53e07ed4",
   "metadata": {},
   "source": [
    "**Audio Engagement Project EDA**\n",
    "--"
   ]
  },
  {
   "cell_type": "markdown",
   "id": "1e960c61",
   "metadata": {},
   "source": [
    "**Structure**\n",
    "--\n",
    "1. Overview\n",
    "2. Data Collection\n",
    "3. Descriptive Statistics\n",
    "4. Data Visualization and Correlation Analysis\n",
    "5. General Observations and Summary"
   ]
  },
  {
   "cell_type": "markdown",
   "id": "b0208318",
   "metadata": {},
   "source": [
    "**1. Overview**\n",
    "--"
   ]
  },
  {
   "cell_type": "markdown",
   "id": "c4ce7786",
   "metadata": {},
   "source": [
    "The goal is to predict how long a user will listen to an audio episode, based on a range of feature data describing both the listener and the audio content.\n",
    "\n",
    "The dataset was synthetically generated based on real-world user audio consumption patterns. Feature distributions are realistic but not identical to any publicly available dataset.\n",
    "\n",
    "**train.csv** - the training dataset; `Listening_Time_minutes` is the target variable\n",
    "\n",
    "**test.csv** - the test dataset; your objective is to predict the `Listening_Time_minutes` for each row\n",
    "\n",
    "**sample_submission.csv** - a sample submission file in the correct format."
   ]
  },
  {
   "cell_type": "markdown",
   "id": "6e8e0799",
   "metadata": {},
   "source": [
    "**2. Data Collection**\n",
    "--"
   ]
  }
 ],
 "metadata": {
  "language_info": {
   "name": "python"
  }
 },
 "nbformat": 4,
 "nbformat_minor": 5
}
